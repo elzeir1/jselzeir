{
 "cells": [
  {
   "cell_type": "code",
   "execution_count": null,
   "id": "fd42591f",
   "metadata": {},
   "outputs": [],
   "source": [
    "print(1)"
   ]
  }
 ],
 "metadata": {
  "kernelspec": {
   "display_name": "Python 3 (ipykernel)",
   "language": "python",
   "name": "python3"
  }
 },
 "nbformat": 4,
 "nbformat_minor": 5
}
