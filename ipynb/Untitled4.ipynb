{
 "cells": [
  {
   "cell_type": "code",
   "execution_count": 100,
   "id": "f6f1d466",
   "metadata": {},
   "outputs": [],
   "source": [
    "class Mahasiswa:\n",
    "    status = 'mahasiswa'\n",
    "    def __init__(self,nama,kelas):\n",
    "        self.nama = nama\n",
    "        self.kelas = kelas\n",
    "    def keterangan(self):\n",
    "        self.jml_tmn = jml_tmn\n",
    "        print(\"{} ada di kelas {} adalah seorang {}\".format(self.nama, self.kelas, self.status))\n",
    "        \n"
   ]
  },
  {
   "cell_type": "code",
   "execution_count": 35,
   "id": "a01b8f1f",
   "metadata": {},
   "outputs": [
    {
     "name": "stdout",
     "output_type": "stream",
     "text": [
      "budi ada di kelas 5 adalah seorang mahasiswa temennya 10\n"
     ]
    }
   ],
   "source": [
    "Mahasiswa(\"budi\", 5).keterangan(10)"
   ]
  },
  {
   "cell_type": "code",
   "execution_count": 109,
   "id": "8b0ed372",
   "metadata": {},
   "outputs": [],
   "source": [
    "class nilai(Mahasiswa):\n",
    "    def __init__(self,nama,kelas):\n",
    "        super().__init__(nama, kelas)\n",
    "        self.nilai_update = []\n",
    "    def tambah_nilai(self,tambah):\n",
    "        self.nilai_update.append(tambah)\n",
    "    def all_info(self):\n",
    "        print(\"{} ada di kelas {} adalah seorang {} nilainya {}\".format(self.nama, self.kelas, self.status, self.nilai_update))\n",
    "        \n"
   ]
  },
  {
   "cell_type": "code",
   "execution_count": 115,
   "id": "a6e93cb2",
   "metadata": {},
   "outputs": [],
   "source": [
    "g = nilai(\"joko\",12) #.tambah_nilai(80)\n"
   ]
  },
  {
   "cell_type": "code",
   "execution_count": 126,
   "id": "043ecbf2",
   "metadata": {},
   "outputs": [],
   "source": [
    "g.tambah_nilai(80)"
   ]
  },
  {
   "cell_type": "code",
   "execution_count": 127,
   "id": "92d21d69",
   "metadata": {
    "scrolled": true
   },
   "outputs": [
    {
     "name": "stdout",
     "output_type": "stream",
     "text": [
      "joko ada di kelas 12 adalah seorang mahasiswa nilainya [80, 80, 80, 80]\n"
     ]
    }
   ],
   "source": [
    "g.all_info()"
   ]
  }
 ],
 "metadata": {
  "kernelspec": {
   "display_name": "Python 3 (ipykernel)",
   "language": "python",
   "name": "python3"
  },
  "language_info": {
   "codemirror_mode": {
    "name": "ipython",
    "version": 3
   },
   "file_extension": ".py",
   "mimetype": "text/x-python",
   "name": "python",
   "nbconvert_exporter": "python",
   "pygments_lexer": "ipython3",
   "version": "3.10.12"
  }
 },
 "nbformat": 4,
 "nbformat_minor": 5
}
