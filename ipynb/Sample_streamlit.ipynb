{
 "cells": [
  {
   "cell_type": "code",
   "execution_count": 22,
   "id": "885b3ba1",
   "metadata": {},
   "outputs": [],
   "source": [
    "import ccxt\n",
    "import pandas as pd\n",
    "import streamlit as st\n",
    "\n",
    "def fetch_tickers(exchange):\n",
    "    try:\n",
    "        tickers = exchange.fetch_tickers()\n",
    "        return tickers\n",
    "    except ccxt.NetworkError as e:\n",
    "        st.error(f\"Network error: {e}\")\n",
    "    except ccxt.ExchangeError as e:\n",
    "        st.error(f\"Exchange error: {e}\")\n",
    "    except Exception as e:\n",
    "        st.error(f\"Error: {e}\")\n",
    "\n",
    "# Inisialisasi exchange untuk Indodax dan Bybit\n",
    "indodax = ccxt.kucoin()\n",
    "bybit = ccxt.binance()\n",
    "\n",
    "# Ambil data ticker\n",
    "indodax_tickers = fetch_tickers(indodax)\n",
    "bybit_tickers = fetch_tickers(bybit)\n",
    "\n",
    "# Buat dictionary baru untuk bybit_tickers tanpa \":USDT\" pada keys\n",
    "bybit_tickers_no_usdt = {symbol.replace(\":USDT\", \"\"): value for symbol, value in bybit_tickers.items()}\n",
    "\n",
    "# Bandingkan data ticker\n",
    "common_symbols = set(indodax_tickers.keys()) & set(bybit_tickers_no_usdt.keys())\n",
    "\n",
    "# Membuat DataFrame\n",
    "data = {'Symbol': [], 'Indodax Bid': [], 'Bybit Bid': []}\n",
    "for symbol in common_symbols:\n",
    "    indodax_bid = indodax_tickers[symbol]['bid']\n",
    "    bybit_bid = bybit_tickers_no_usdt[symbol]['bid']\n",
    "\n",
    "    data['Symbol'].append(symbol)\n",
    "    data['Indodax Bid'].append(indodax_bid)\n",
    "    data['Bybit Bid'].append(bybit_bid)\n",
    "\n",
    "df = pd.DataFrame(data)\n",
    "\n",
    "# Tampilkan DataFrame di Streamlit\n",
    "#st.dataframe(df)\n"
   ]
  },
  {
   "cell_type": "code",
   "execution_count": 24,
   "id": "e79d8cdf",
   "metadata": {},
   "outputs": [
    {
     "data": {
      "text/html": [
       "<div>\n",
       "<style scoped>\n",
       "    .dataframe tbody tr th:only-of-type {\n",
       "        vertical-align: middle;\n",
       "    }\n",
       "\n",
       "    .dataframe tbody tr th {\n",
       "        vertical-align: top;\n",
       "    }\n",
       "\n",
       "    .dataframe thead th {\n",
       "        text-align: right;\n",
       "    }\n",
       "</style>\n",
       "<table border=\"1\" class=\"dataframe\">\n",
       "  <thead>\n",
       "    <tr style=\"text-align: right;\">\n",
       "      <th></th>\n",
       "      <th>Symbol</th>\n",
       "      <th>Indodax Bid</th>\n",
       "      <th>Bybit Bid</th>\n",
       "    </tr>\n",
       "  </thead>\n",
       "  <tbody>\n",
       "    <tr>\n",
       "      <th>0</th>\n",
       "      <td>QKC/BTC</td>\n",
       "      <td>2.208000e-07</td>\n",
       "      <td>2.200000e-07</td>\n",
       "    </tr>\n",
       "    <tr>\n",
       "      <th>1</th>\n",
       "      <td>EGLD/BTC</td>\n",
       "      <td>1.231000e-03</td>\n",
       "      <td>1.230000e-03</td>\n",
       "    </tr>\n",
       "    <tr>\n",
       "      <th>2</th>\n",
       "      <td>BCH/USDT</td>\n",
       "      <td>2.350600e+02</td>\n",
       "      <td>2.350000e+02</td>\n",
       "    </tr>\n",
       "    <tr>\n",
       "      <th>3</th>\n",
       "      <td>TWT/USDT</td>\n",
       "      <td>1.077100e+00</td>\n",
       "      <td>1.077300e+00</td>\n",
       "    </tr>\n",
       "    <tr>\n",
       "      <th>4</th>\n",
       "      <td>KNC/BTC</td>\n",
       "      <td>1.359000e-05</td>\n",
       "      <td>1.369000e-05</td>\n",
       "    </tr>\n",
       "    <tr>\n",
       "      <th>...</th>\n",
       "      <td>...</td>\n",
       "      <td>...</td>\n",
       "      <td>...</td>\n",
       "    </tr>\n",
       "    <tr>\n",
       "      <th>478</th>\n",
       "      <td>NMR/BTC</td>\n",
       "      <td>4.746000e-04</td>\n",
       "      <td>4.760000e-04</td>\n",
       "    </tr>\n",
       "    <tr>\n",
       "      <th>479</th>\n",
       "      <td>BSV/USDT</td>\n",
       "      <td>6.892200e+01</td>\n",
       "      <td>NaN</td>\n",
       "    </tr>\n",
       "    <tr>\n",
       "      <th>480</th>\n",
       "      <td>LINK/BTC</td>\n",
       "      <td>3.741600e-04</td>\n",
       "      <td>3.743000e-04</td>\n",
       "    </tr>\n",
       "    <tr>\n",
       "      <th>481</th>\n",
       "      <td>ARB/USDT</td>\n",
       "      <td>1.712600e+00</td>\n",
       "      <td>1.711800e+00</td>\n",
       "    </tr>\n",
       "    <tr>\n",
       "      <th>482</th>\n",
       "      <td>AVAX/BTC</td>\n",
       "      <td>7.818400e-04</td>\n",
       "      <td>7.821000e-04</td>\n",
       "    </tr>\n",
       "  </tbody>\n",
       "</table>\n",
       "<p>483 rows × 3 columns</p>\n",
       "</div>"
      ],
      "text/plain": [
       "       Symbol   Indodax Bid     Bybit Bid\n",
       "0     QKC/BTC  2.208000e-07  2.200000e-07\n",
       "1    EGLD/BTC  1.231000e-03  1.230000e-03\n",
       "2    BCH/USDT  2.350600e+02  2.350000e+02\n",
       "3    TWT/USDT  1.077100e+00  1.077300e+00\n",
       "4     KNC/BTC  1.359000e-05  1.369000e-05\n",
       "..        ...           ...           ...\n",
       "478   NMR/BTC  4.746000e-04  4.760000e-04\n",
       "479  BSV/USDT  6.892200e+01           NaN\n",
       "480  LINK/BTC  3.741600e-04  3.743000e-04\n",
       "481  ARB/USDT  1.712600e+00  1.711800e+00\n",
       "482  AVAX/BTC  7.818400e-04  7.821000e-04\n",
       "\n",
       "[483 rows x 3 columns]"
      ]
     },
     "execution_count": 24,
     "metadata": {},
     "output_type": "execute_result"
    }
   ],
   "source": [
    "df"
   ]
  },
  {
   "cell_type": "code",
   "execution_count": 9,
   "id": "fc752d30",
   "metadata": {},
   "outputs": [],
   "source": [
    "dfi = pd.DataFrame(indodax_tickers).transpose()"
   ]
  },
  {
   "cell_type": "code",
   "execution_count": 11,
   "id": "722faf5a",
   "metadata": {},
   "outputs": [],
   "source": [
    "dfb = pd.DataFrame(bybit_tickers).transpose()"
   ]
  },
  {
   "cell_type": "code",
   "execution_count": 19,
   "id": "7d9da5e8",
   "metadata": {},
   "outputs": [
    {
     "data": {
      "text/plain": [
       "{'BTC/USDT', 'ETH/USDT'}"
      ]
     },
     "execution_count": 19,
     "metadata": {},
     "output_type": "execute_result"
    }
   ],
   "source": [
    "common_symbols"
   ]
  },
  {
   "cell_type": "code",
   "execution_count": 23,
   "id": "cce8d6d7",
   "metadata": {},
   "outputs": [
    {
     "data": {
      "text/plain": [
       "DeltaGenerator()"
      ]
     },
     "execution_count": 23,
     "metadata": {},
     "output_type": "execute_result"
    }
   ],
   "source": [
    "st.dataframe(df)"
   ]
  }
 ],
 "metadata": {
  "kernelspec": {
   "display_name": "Python 3 (ipykernel)",
   "language": "python",
   "name": "python3"
  },
  "language_info": {
   "codemirror_mode": {
    "name": "ipython",
    "version": 3
   },
   "file_extension": ".py",
   "mimetype": "text/x-python",
   "name": "python",
   "nbconvert_exporter": "python",
   "pygments_lexer": "ipython3",
   "version": "3.10.12"
  }
 },
 "nbformat": 4,
 "nbformat_minor": 5
}
