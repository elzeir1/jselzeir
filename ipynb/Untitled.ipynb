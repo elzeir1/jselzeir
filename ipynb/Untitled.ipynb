{
 "cells": [
  {
   "cell_type": "code",
   "execution_count": 1,
   "id": "f4ca1a4b",
   "metadata": {},
   "outputs": [
    {
     "name": "stderr",
     "output_type": "stream",
     "text": [
      "/usr/local/lib/python3.10/dist-packages/pandas/core/arrays/masked.py:62: UserWarning: Pandas requires version '1.3.4' or newer of 'bottleneck' (version '1.3.2' currently installed).\n",
      "  from pandas.core import (\n"
     ]
    }
   ],
   "source": [
    "import ccxt\n",
    "import pandas as pd\n",
    "from sqlalchemy import create_engine\n",
    "from concurrent.futures import ThreadPoolExecutor\n",
    "engine = create_engine('sqlite:///contoh_data_market.db')\n"
   ]
  },
  {
   "cell_type": "code",
   "execution_count": null,
   "id": "e9cadd63",
   "metadata": {},
   "outputs": [],
   "source": [
    "excanges = ['indodax','kucoin','binance']\n",
    "for i in excanges:\n",
    "    "
   ]
  },
  {
   "cell_type": "code",
   "execution_count": 2,
   "id": "9f45b5d3",
   "metadata": {},
   "outputs": [
    {
     "name": "stdout",
     "output_type": "stream",
     "text": [
      "{'0xc2e9d07f66a89c44062459a47a0d2dc038e4fb16': {'address': '0xc2e9d07f66a89c44062459a47a0d2dc038e4fb16', 'chainId': 56, 'decimals': 18, 'name': 'Staked BNB', 'symbol': 'stkBNB', 'providers': ['1inch', 'PancakeSwap Extended'], 'logoURI': 'https://tokens.1inch.io/0xc2e9d07f66a89c44062459a47a0d2dc038e4fb16.png', 'tags': ['tokens']}}\n"
     ]
    }
   ],
   "source": [
    "\n",
    "import requests\n",
    "import config\n",
    "def make_api_request(api_url, method=\"get\", headers=None, params=None, body=None):\n",
    "    \"\"\"\n",
    "    Make an API request using the specified method, URL, headers, params, and body.\n",
    "\n",
    "    Parameters:\n",
    "    - api_url (str): The URL of the API endpoint.\n",
    "    - method (str): HTTP method for the request (default is \"get\").\n",
    "    - headers (dict): Headers to be included in the request.\n",
    "    - params (dict): Query parameters to be included in the request.\n",
    "    - body (dict): Request body for methods that support it (default is None).\n",
    "\n",
    "    Returns:\n",
    "    - dict: JSON response from the API.\n",
    "    \"\"\"\n",
    "    if method.lower() == \"get\":\n",
    "        response = requests.get(api_url, headers=headers, params=params)\n",
    "    elif method.lower() == \"post\":\n",
    "        response = requests.post(api_url, headers=headers, params=params, json=body)\n",
    "    else:\n",
    "        raise ValueError(\"Unsupported HTTP method\")\n",
    "\n",
    "    if response.status_code == 200:\n",
    "        return response.json()\n",
    "    else:\n",
    "        print(f\"Failed to make API request. Status Code: {response.status_code}\")\n",
    "        return None\n",
    "\n",
    "def fetch_custom_token_prices(chain_id, api_1inch, list_address):\n",
    "    api_url = f\"https://api.1inch.dev/token/v1.2/{chain_id}/custom\"\n",
    "    request_options = {\n",
    "        \"headers\": {\n",
    "            \"Authorization\": f\"Bearer {config.api_1inch}\"\n",
    "        },\n",
    "        \"body\": {},\n",
    "        \"params\": {\n",
    "            \"addresses\": list_address\n",
    "        }\n",
    "    }\n",
    "\n",
    "    # Prepare request components\n",
    "    headers = request_options.get(\"headers\", {})\n",
    "    body = request_options.get(\"body\", {})\n",
    "    params = request_options.get(\"params\", {})\n",
    "\n",
    "    # Make the request using the defined function\n",
    "    response = make_api_request(api_url, method=\"get\", headers=headers, params=params)\n",
    "\n",
    "    return response\n",
    "\n",
    "if __name__ == \"__main__\":\n",
    "    # Example usage\n",
    "    chain_id = 56\n",
    "    api_1inch = config.api_1inch\n",
    "    list_address = [\"0xc2E9d07F66A89c44062459A47a0D2Dc038E4fb16\"]\n",
    "\n",
    "    custom_token_prices = fetch_custom_token_prices(chain_id, api_1inch, list_address)\n",
    "\n",
    "    # Print the response\n",
    "    if custom_token_prices:\n",
    "        print(custom_token_prices)\n",
    "    else:\n",
    "        print(\"Failed to fetch custom token prices.\")\n"
   ]
  }
 ],
 "metadata": {
  "kernelspec": {
   "display_name": "Python 3 (ipykernel)",
   "language": "python",
   "name": "python3"
  },
  "language_info": {
   "codemirror_mode": {
    "name": "ipython",
    "version": 3
   },
   "file_extension": ".py",
   "mimetype": "text/x-python",
   "name": "python",
   "nbconvert_exporter": "python",
   "pygments_lexer": "ipython3",
   "version": "3.10.12"
  }
 },
 "nbformat": 4,
 "nbformat_minor": 5
}
